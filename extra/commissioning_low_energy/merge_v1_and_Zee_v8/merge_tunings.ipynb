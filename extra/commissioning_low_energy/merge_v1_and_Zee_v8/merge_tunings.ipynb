{
 "cells": [
  {
   "cell_type": "markdown",
   "metadata": {},
   "source": [
    "# Merge tunings for r3 Release\n",
    "\n",
    "Here we will merge all models from v8 (Zee) and v1 (jpsi) tunings.\n",
    "\n",
    "All tunings were trained using run2 schemma."
   ]
  },
  {
   "cell_type": "code",
   "execution_count": 17,
   "metadata": {},
   "outputs": [
    {
     "name": "stdout",
     "output_type": "stream",
     "text": [
      "The autoreload extension is already loaded. To reload it, use:\n",
      "  %reload_ext autoreload\n"
     ]
    }
   ],
   "source": [
    "from kolmov import crossval_table, get_color_fader, fit_table\n",
    "import saphyra\n",
    "import numpy as np\n",
    "import pandas as pd\n",
    "import collections\n",
    "import os\n",
    "import matplotlib\n",
    "import matplotlib.pyplot as plt\n",
    "from ROOT import TEnv\n",
    "from pprint import pprint\n",
    "%config InlineBackend.figure_format = 'retina'\n",
    "%load_ext autoreload\n",
    "%autoreload 2"
   ]
  },
  {
   "cell_type": "code",
   "execution_count": 18,
   "metadata": {},
   "outputs": [],
   "source": [
    "v8_path = \"/Volumes/castor/tuning_data/Zee/production/TrigL2_20180125_v8\"\n",
    "v1_path = \"/Volumes/castor/tuning_data/Jpsi/production/TrigL2_20210227_v1\""
   ]
  },
  {
   "cell_type": "code",
   "execution_count": 19,
   "metadata": {},
   "outputs": [],
   "source": [
    "def merge( path1, path2 , output, max_pileup = [100,100]):\n",
    "\n",
    "    env1 = TEnv(path1)\n",
    "    env2 = TEnv(path2)\n",
    "    def treat_float( env, key ):\n",
    "        return [float(value) for value in  env.GetValue(key, '').split('; ')]\n",
    "\n",
    "    def treat_string( env, key ):\n",
    "        return [str(value) for value in  env.GetValue(key, '').split('; ')]\n",
    "    \n",
    "    # merge models\n",
    "    model_etmin_vec= treat_float( env1,'Model__etmin' )+treat_float( env2,'Model__etmin' )\n",
    "    model_etmax_vec= treat_float( env1,'Model__etmax' )+treat_float( env2,'Model__etmax' )\n",
    "    model_etamin_vec= treat_float( env1,'Model__etamin' )+treat_float( env2,'Model__etamin' )\n",
    "    model_etamax_vec= treat_float( env1,'Model__etamax' )+treat_float( env2,'Model__etamax' )\n",
    "    model_paths =  treat_string( env1, 'Model__path' )+ treat_string( env2, 'Model__path' )\n",
    "    slopes = treat_float( env1, 'Threshold__slope' )+treat_float( env2, 'Threshold__slope' )\n",
    "    offsets = treat_float( env1, 'Threshold__offset' )+treat_float( env2, 'Threshold__slope' )\n",
    "    \n",
    "    file = TEnv(path1)\n",
    "    def list_to_str( l ):\n",
    "        s = str()\n",
    "        for ll in l:\n",
    "            s+=str(ll)+'; '\n",
    "        return s[:-2]\n",
    "\n",
    "    max_pileup1 = [max_pileup[0]]*len(treat_string( env1, 'Model__path' ))\n",
    "    max_pileup2 = [max_pileup[1]]*len(treat_string( env2, 'Model__path' ))\n",
    "    \n",
    "\n",
    "    \n",
    "    # Write the config file\n",
    "    file = TEnv( 'ringer' )\n",
    "    file.SetValue( \"__name__\", 'should_be_filled' )\n",
    "    file.SetValue( \"__version__\", 'should_be_filled' )\n",
    "    file.SetValue( \"__operation__\", 'should_be_filled' )\n",
    "    file.SetValue( \"__signature__\", 'should_be_filled' )\n",
    "    file.SetValue( \"Model__size\"  , str(len(model_paths)) )\n",
    "    file.SetValue( \"Model__etmin\" , list_to_str(model_etmin_vec) )\n",
    "    file.SetValue( \"Model__etmax\" , list_to_str(model_etmax_vec) )\n",
    "    file.SetValue( \"Model__etamin\", list_to_str(model_etamin_vec) )\n",
    "    file.SetValue( \"Model__etamax\", list_to_str(model_etamax_vec) )\n",
    "    file.SetValue( \"Model__path\"  , list_to_str( model_paths ) )\n",
    "    file.SetValue( \"Threshold__size\"  , str(len(model_paths)) )\n",
    "    file.SetValue( \"Threshold__etmin\" , list_to_str(model_etmin_vec) )\n",
    "    file.SetValue( \"Threshold__etmax\" , list_to_str(model_etmax_vec) )\n",
    "    file.SetValue( \"Threshold__etamin\", list_to_str(model_etamin_vec) )\n",
    "    file.SetValue( \"Threshold__etamax\", list_to_str(model_etamax_vec) )\n",
    "    file.SetValue( \"Threshold__slope\" , list_to_str(slopes) )\n",
    "    file.SetValue( \"Threshold__offset\", list_to_str(offsets) )\n",
    "    file.SetValue( \"Threshold__MaxAverageMu\", list_to_str(max_pileup1+max_pileup2))\n",
    "    file.WriteFile(output)\n",
    "\n",
    "\n"
   ]
  },
  {
   "cell_type": "code",
   "execution_count": 20,
   "metadata": {},
   "outputs": [],
   "source": [
    "merge(v1_path+'/ElectronRingerVeryLooseTriggerConfig.conf',\n",
    "      v8_path+'/ElectronRingerVeryLooseTriggerConfig.conf',\n",
    "      'ElectronRingerVeryLooseTriggerConfig.conf',\n",
    "      [50, 100])"
   ]
  },
  {
   "cell_type": "code",
   "execution_count": 21,
   "metadata": {},
   "outputs": [],
   "source": [
    "merge(v1_path+'/ElectronRingerLooseTriggerConfig.conf',\n",
    "      v8_path+'/ElectronRingerLooseTriggerConfig.conf',\n",
    "      'ElectronRingerLooseTriggerConfig.conf',\n",
    "      [50, 100])"
   ]
  },
  {
   "cell_type": "code",
   "execution_count": 22,
   "metadata": {},
   "outputs": [],
   "source": [
    "merge(v1_path+'/ElectronRingerMediumTriggerConfig.conf',\n",
    "      v8_path+'/ElectronRingerMediumTriggerConfig.conf',\n",
    "      'ElectronRingerMediumTriggerConfig.conf',\n",
    "      [50, 100])"
   ]
  },
  {
   "cell_type": "code",
   "execution_count": 23,
   "metadata": {},
   "outputs": [],
   "source": [
    "merge(v1_path+'/ElectronRingerTightTriggerConfig.conf',\n",
    "      v8_path+'/ElectronRingerTightTriggerConfig.conf',\n",
    "      'ElectronRingerTightTriggerConfig.conf',\n",
    "      [50, 100])"
   ]
  },
  {
   "cell_type": "code",
   "execution_count": 24,
   "metadata": {},
   "outputs": [],
   "source": [
    "!mkdir TrigL2_20210227_r3\n",
    "!cp -r /Volumes/castor/tuning_data/Zee/production/TrigL2_20180125_v8/models TrigL2_20210227_r3\n",
    "!cp -r /Volumes/castor/tuning_data/Jpsi/production/TrigL2_20210227_v1/models/* TrigL2_20210227_r3/models\n",
    "!mv *.conf TrigL2_20210227_r3"
   ]
  },
  {
   "cell_type": "code",
   "execution_count": null,
   "metadata": {},
   "outputs": [],
   "source": []
  },
  {
   "cell_type": "code",
   "execution_count": null,
   "metadata": {},
   "outputs": [],
   "source": []
  },
  {
   "cell_type": "code",
   "execution_count": null,
   "metadata": {},
   "outputs": [],
   "source": []
  }
 ],
 "metadata": {
  "kernelspec": {
   "display_name": "Python 3",
   "language": "python",
   "name": "python3"
  },
  "language_info": {
   "codemirror_mode": {
    "name": "ipython",
    "version": 3
   },
   "file_extension": ".py",
   "mimetype": "text/x-python",
   "name": "python",
   "nbconvert_exporter": "python",
   "pygments_lexer": "ipython3",
   "version": "3.7.9"
  }
 },
 "nbformat": 4,
 "nbformat_minor": 4
}
