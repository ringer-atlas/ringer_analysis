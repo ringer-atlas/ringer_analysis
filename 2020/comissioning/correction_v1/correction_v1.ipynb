{
 "cells": [
  {
   "cell_type": "markdown",
   "metadata": {},
   "source": [
    "# Set references for v1 tuning using the linear function\n",
    "\n",
    "This notebook is dedicated to apply the linear correction in the neural network output w.r.t the avgmu. \n",
    "\n",
    "**NOTE**: This is an extra study.\n",
    "\n",
    "**NOTE**: Get all models with 2 neurons."
   ]
  },
  {
   "cell_type": "code",
   "execution_count": 1,
   "metadata": {},
   "outputs": [
    {
     "output_type": "stream",
     "name": "stdout",
     "text": [
      "Welcome to JupyROOT 6.16/00\n",
      "Using all sub packages with ROOT dependence\n"
     ]
    }
   ],
   "source": [
    "from kolmov import crossval_table, get_color_fader, fit_table\n",
    "import saphyra\n",
    "import numpy as np\n",
    "import pandas as pd\n",
    "import collections\n",
    "import os\n",
    "import matplotlib\n",
    "import matplotlib.pyplot as plt\n",
    "from pprint import pprint\n",
    "%config InlineBackend.figure_format = 'retina'\n",
    "%load_ext autoreload\n",
    "%autoreload 2"
   ]
  },
  {
   "cell_type": "code",
   "execution_count": 2,
   "metadata": {},
   "outputs": [],
   "source": [
    "etbins = [0.0, 7.0, 10.0, 15.0]\n",
    "etabins = [0.0, 0.8, 1.37, 1.54, 2.37, 2.50]"
   ]
  },
  {
   "cell_type": "markdown",
   "metadata": {},
   "source": [
    "## 1) Reading all tunings:\n",
    "\n",
    "Since I don't have v6 tuning files available, I will reload the production files and get the models for each bin."
   ]
  },
  {
   "cell_type": "code",
   "execution_count": 3,
   "metadata": {},
   "outputs": [],
   "source": [
    "def create_op_dict(op):\n",
    "    d = {\n",
    "              op+'_pd_ref'    : \"reference/\"+op+\"_cutbased/pd_ref#0\",\n",
    "              op+'_fa_ref'    : \"reference/\"+op+\"_cutbased/fa_ref#0\",\n",
    "              op+'_sp_ref'    : \"reference/\"+op+\"_cutbased/sp_ref\",\n",
    "              op+'_pd_val'    : \"reference/\"+op+\"_cutbased/pd_val#0\",\n",
    "              op+'_fa_val'    : \"reference/\"+op+\"_cutbased/fa_val#0\",\n",
    "              op+'_sp_val'    : \"reference/\"+op+\"_cutbased/sp_val\",\n",
    "              op+'_pd_op'     : \"reference/\"+op+\"_cutbased/pd_op#0\",\n",
    "              op+'_fa_op'     : \"reference/\"+op+\"_cutbased/fa_op#0\",\n",
    "              op+'_sp_op'     : \"reference/\"+op+\"_cutbased/sp_op\",\n",
    "\n",
    "              # Counts\n",
    "              op+'_pd_ref_passed'    : \"reference/\"+op+\"_cutbased/pd_ref#1\",\n",
    "              op+'_fa_ref_passed'    : \"reference/\"+op+\"_cutbased/fa_ref#1\",\n",
    "              op+'_pd_ref_total'     : \"reference/\"+op+\"_cutbased/pd_ref#2\",\n",
    "              op+'_fa_ref_total'     : \"reference/\"+op+\"_cutbased/fa_ref#2\",\n",
    "              op+'_pd_val_passed'    : \"reference/\"+op+\"_cutbased/pd_val#1\",\n",
    "              op+'_fa_val_passed'    : \"reference/\"+op+\"_cutbased/fa_val#1\",\n",
    "              op+'_pd_val_total'     : \"reference/\"+op+\"_cutbased/pd_val#2\",\n",
    "              op+'_fa_val_total'     : \"reference/\"+op+\"_cutbased/fa_val#2\",\n",
    "              op+'_pd_op_passed'     : \"reference/\"+op+\"_cutbased/pd_op#1\",\n",
    "              op+'_fa_op_passed'     : \"reference/\"+op+\"_cutbased/fa_op#1\",\n",
    "              op+'_pd_op_total'      : \"reference/\"+op+\"_cutbased/pd_op#2\",\n",
    "              op+'_fa_op_total'      : \"reference/\"+op+\"_cutbased/fa_op#2\",\n",
    "    }\n",
    "    return d\n",
    "\n",
    "tuned_info = collections.OrderedDict( {\n",
    "              # validation\n",
    "              \"max_sp_val\"      : 'summary/max_sp_val',\n",
    "              \"max_sp_pd_val\"   : 'summary/max_sp_pd_val#0',\n",
    "              \"max_sp_fa_val\"   : 'summary/max_sp_fa_val#0',\n",
    "              # Operation\n",
    "              \"max_sp_op\"       : 'summary/max_sp_op',\n",
    "              \"max_sp_pd_op\"    : 'summary/max_sp_pd_op#0',\n",
    "              \"max_sp_fa_op\"    : 'summary/max_sp_fa_op#0',\n",
    "              } )\n",
    "\n",
    "tuned_info.update(create_op_dict('tight'))\n",
    "tuned_info.update(create_op_dict('medium'))\n",
    "tuned_info.update(create_op_dict('loose'))\n",
    "tuned_info.update(create_op_dict('vloose'))"
   ]
  },
  {
   "cell_type": "code",
   "execution_count": 4,
   "metadata": {},
   "outputs": [
    {
     "output_type": "stream",
     "name": "stdout",
     "text": [
      "2021-03-03 14:12:53,369 | Py.crossval_table                       INFO Reading file for v1 tag from /home/micael/Documents/NeuralRinger/cern_data/jpsiee_tunes/v1/r0/*/*/*.gz\n2021-03-03 14:12:53,369 | Py.crossval_table                       INFO There are 1500 files for this task...\n2021-03-03 14:12:53,369 | Py.crossval_table                       INFO Filling the table... \n2021-03-03 14:12:58,344 | Py.crossval_table                       INFO End of fill step, a pandas DataFrame was created...\n"
     ]
    }
   ],
   "source": [
    "cv_v1  = crossval_table( tuned_info, etbins = etbins , etabins = etabins )\n",
    "cv_v1.fill(  os.path.join(os.environ['TUNES_PATH'], 'v1/r0/*/*/*.gz'), 'v1')\n",
    "best_inits_v1 = cv_v1.filter_inits(\"max_sp_val\")\n",
    "best_sorts_v1 = cv_v1.filter_sorts( best_inits_v1.loc[best_inits_v1.model_idx==0] , 'max_sp_op')\n",
    "best_models = cv_v1.get_best_models(best_sorts_v1, remove_last=True)"
   ]
  },
  {
   "cell_type": "markdown",
   "metadata": {},
   "source": [
    "## 2) Linear correction:\n",
    "\n",
    "Here we will set all thresholds to operate as the same pd reference from cut-based using the pileup linear correction strategy. As the classifier efficiency has some \"dependence\" w.r.t the pileup we adopt the linear adjustment to \"fix\" the trigger efficiency. Here we will \"fix\" the neural network threshold w.r.t the pileup. \n",
    "\n",
    "### 2.1) Get all PD/Fas values:\n",
    "\n",
    "Read all reference values from the storage."
   ]
  },
  {
   "cell_type": "code",
   "execution_count": 5,
   "metadata": {},
   "outputs": [],
   "source": [
    "m_epsilons = {\n",
    "    'tight_cutbased' : 0.0, \n",
    "    'medium_cutbased': 0.0, \n",
    "    'loose_cutbased' : 0.0, \n",
    "    'vloose_cutbased': 0.4\n",
    "}"
   ]
  },
  {
   "cell_type": "code",
   "execution_count": 6,
   "metadata": {},
   "outputs": [],
   "source": [
    "# calculate all pd/fa from reference file\n",
    "ref_path = os.path.join(os.environ['DATA_PATH'],\n",
    "                        'data17_13TeV.AllPeriods.sgn.probes_lhmedium_EGAM2.bkg.VProbes_EGAM7.GRL_v97/references/')\n",
    "ref_path+= 'data17_13TeV.AllPeriods.sgn.probes_lhmedium_EGAM2.bkg.VProbes_EGAM7.GRL_v97_et{ET}_eta{ETA}.ref.pic.gz'\n",
    "\n",
    "ref_paths = [[ ref_path.format(ET=et,ETA=eta) for eta in range(5)] for et in range(3) ]\n",
    "ref_matrix = [[ {} for eta in range(5)] for et in range(3)]\n",
    "references = ['tight_cutbased', 'medium_cutbased' , 'loose_cutbased', 'vloose_cutbased']\n",
    "from saphyra.core import ReferenceReader\n",
    "for et_bin in range(3):\n",
    "    for eta_bin in range(5):\n",
    "        for name in references:\n",
    "            refObj = ReferenceReader().load(ref_paths[et_bin][eta_bin])\n",
    "            pd = refObj.getSgnPassed(name)/refObj.getSgnTotal(name)\n",
    "            fa = refObj.getBkgPassed(name)/refObj.getBkgTotal(name)\n",
    "            ref_matrix[et_bin][eta_bin][name] = {'pd':pd, 'fa':fa, 'pd_epsilon': m_epsilons[name]}"
   ]
  },
  {
   "cell_type": "markdown",
   "metadata": {},
   "source": [
    "### 2.2) Create data generator:\n",
    "\n",
    "Since each tuning models is fed by a different data organization, we need to create a generator to open the data file, prepare the matrix and apply some pre-processing (if needed)."
   ]
  },
  {
   "cell_type": "code",
   "execution_count": 7,
   "metadata": {},
   "outputs": [],
   "source": [
    "def generator( path ):\n",
    "    def norm1( data ):\n",
    "        norms = np.abs( data.sum(axis=1) )\n",
    "        norms[norms==0] = 1\n",
    "        return data/norms[:,None]\n",
    "    from Gaugi import load\n",
    "    d = load(path)\n",
    "    feature_names = d['features'].tolist()\n",
    "\n",
    "    # How many events?\n",
    "    n = d['data'].shape[0]\n",
    "    \n",
    "    # extract rings\n",
    "    data_rings = norm1(d['data'][:,1:101])\n",
    "    target = d['target']\n",
    "    avgmu = d['data'][:,0]\n",
    "    \n",
    "    return [data_rings], target, avgmu"
   ]
  },
  {
   "cell_type": "code",
   "execution_count": 8,
   "metadata": {},
   "outputs": [],
   "source": [
    "path = os.path.join(os.environ['DATA_PATH'],\n",
    "                        'data17_13TeV.AllPeriods.sgn.probes_lhmedium_EGAM2.bkg.VProbes_EGAM7.GRL_v97/')\n",
    "path+= 'data17_13TeV.AllPeriods.sgn.probes_lhmedium_EGAM2.bkg.VProbes_EGAM7.GRL_v97_et{ET}_eta{ETA}.npz'\n",
    "paths = [[ path.format(ET=et,ETA=eta) for eta in range(5)] for et in range(3)]"
   ]
  },
  {
   "cell_type": "code",
   "execution_count": 9,
   "metadata": {},
   "outputs": [],
   "source": [
    "# create the table class\n",
    "from ROOT import kBlackBody\n",
    "ct  = fit_table( generator, etbins , etabins, 0.001, 1.5, 16.5, 45.5, \n",
    "                 xmin_percentage=0.05, xmax_percentage=99.95, palette=kBlackBody )"
   ]
  },
  {
   "cell_type": "markdown",
   "metadata": {},
   "source": [
    "### 2.3) Apply linear correction:\n",
    "\n",
    "**NOTE**: Take about 25 minutes."
   ]
  },
  {
   "cell_type": "code",
   "execution_count": 10,
   "metadata": {},
   "outputs": [
    {
     "output_type": "stream",
     "name": "stdout",
     "text": [
      "\n",
      "Applying ATLAS style settings...\n",
      "\n",
      "Fitting... ... finished task in 84.893669s.\n",
      "2021-03-03 14:13:08,157 | Py.fit_table                            INFO Add 0 % in reference pd -> new reference pd: 0\n",
      "2021-03-03 14:13:17,116 | Py.fit_table                            INFO Add 0 % in reference pd -> new reference pd: 0\n",
      "2021-03-03 14:13:19,892 | Py.fit_table                            INFO Add 0 % in reference pd -> new reference pd: 0\n",
      "2021-03-03 14:13:25,655 | Py.fit_table                            INFO Add 0 % in reference pd -> new reference pd: 0\n",
      "2021-03-03 14:13:27,586 | Py.fit_table                            INFO Add 0 % in reference pd -> new reference pd: 0\n",
      "2021-03-03 14:13:27,624 | Py.fit_table                         WARNING Retrieved positive angular factor of the linear correction, setting to 0!\n",
      "2021-03-03 14:13:33,919 | Py.fit_table                            INFO Add 0 % in reference pd -> new reference pd: 0\n",
      "2021-03-03 14:13:42,543 | Py.fit_table                            INFO Add 0 % in reference pd -> new reference pd: 0\n",
      "2021-03-03 14:13:44,668 | Py.fit_table                         WARNING Retrieved positive angular factor of the linear correction, setting to 0!\n",
      "2021-03-03 14:13:45,366 | Py.fit_table                            INFO Add 0 % in reference pd -> new reference pd: 0\n",
      "2021-03-03 14:13:48,326 | Py.fit_table                            INFO Add 0 % in reference pd -> new reference pd: 0\n",
      "2021-03-03 14:13:49,792 | Py.fit_table                            INFO Add 0 % in reference pd -> new reference pd: 0\n",
      "2021-03-03 14:13:52,851 | Py.fit_table                         WARNING Retrieved positive angular factor of the linear correction, setting to 0!\n",
      "2021-03-03 14:13:55,728 | Py.fit_table                         WARNING Retrieved positive angular factor of the linear correction, setting to 0!\n",
      "2021-03-03 14:13:58,495 | Py.fit_table                         WARNING Retrieved positive angular factor of the linear correction, setting to 0!\n",
      "2021-03-03 14:13:59,450 | Py.fit_table                            INFO Add 0 % in reference pd -> new reference pd: 0\n",
      "2021-03-03 14:14:01,040 | Py.fit_table                         WARNING Retrieved positive angular factor of the linear correction, setting to 0!\n",
      "2021-03-03 14:14:08,553 | Py.fit_table                            INFO Add 0 % in reference pd -> new reference pd: 0\n",
      "2021-03-03 14:14:09,713 | Py.fit_table                         WARNING Retrieved positive angular factor of the linear correction, setting to 0!\n",
      "2021-03-03 14:14:11,810 | Py.fit_table                            INFO Add 0 % in reference pd -> new reference pd: 0\n",
      "2021-03-03 14:14:17,490 | Py.fit_table                            INFO Add 0 % in reference pd -> new reference pd: 0\n",
      "2021-03-03 14:14:20,199 | Py.fit_table                         WARNING Retrieved positive angular factor of the linear correction, setting to 0!\n",
      "2021-03-03 14:14:21,525 | Py.fit_table                         WARNING Retrieved positive angular factor of the linear correction, setting to 0!\n",
      "2021-03-03 14:14:22,861 | Py.fit_table                         WARNING Retrieved positive angular factor of the linear correction, setting to 0!\n",
      "2021-03-03 14:14:23,000 | Py.fit_table                            INFO Add 0 % in reference pd -> new reference pd: 0\n",
      "2021-03-03 14:14:24,200 | Py.fit_table                         WARNING Retrieved positive angular factor of the linear correction, setting to 0!\n",
      "2021-03-03 14:13:00.158596: I tensorflow/compiler/mlir/mlir_graph_optimization_pass.cc:116] None of the MLIR optimization passes are enabled (registered 2)\n",
      "2021-03-03 14:13:00.182469: I tensorflow/core/platform/profile_utils/cpu_utils.cc:112] CPU Frequency: 2499950000 Hz\n",
      "2021-03-03 14:13:00.224514: I tensorflow/stream_executor/platform/default/dso_loader.cc:49] Successfully opened dynamic library libcublas.so.11\n",
      "2021-03-03 14:13:00.548872: I tensorflow/stream_executor/platform/default/dso_loader.cc:49] Successfully opened dynamic library libcublasLt.so.11\n"
     ]
    }
   ],
   "source": [
    "# Fill it\n",
    "ct.fill(paths, best_models, ref_matrix,\n",
    "        'correction_v1_probes_lhmedium_EGAM2_vetoProbes_EGAM7',\n",
    "         except_these_bins = [(0,2),(0,4), (1,2),(1,4),(2,2),(2,4)])"
   ]
  },
  {
   "cell_type": "code",
   "execution_count": 14,
   "metadata": {},
   "outputs": [
    {
     "output_type": "execute_result",
     "data": {
      "text/plain": [
       "              name  et_bin  eta_bin  reference_signal_passed  \\\n",
       "0   tight_cutbased       0        0                    27987   \n",
       "1  medium_cutbased       0        0                    27987   \n",
       "2   loose_cutbased       0        0                    27827   \n",
       "3  vloose_cutbased       0        0                    28149   \n",
       "4   tight_cutbased       0        1                     8363   \n",
       "\n",
       "   reference_signal_total  reference_signal_eff  reference_background_passed  \\\n",
       "0                   28455              0.983553                        69344   \n",
       "1                   28455              0.983553                        69344   \n",
       "2                   28455              0.977930                        64940   \n",
       "3                   28455              0.989246                        72834   \n",
       "4                    8736              0.957303                        86022   \n",
       "\n",
       "   reference_background_total  reference_background_eff  signal_passed  ...  \\\n",
       "0                      215903                  0.321181          27986  ...   \n",
       "1                      215903                  0.321181          27986  ...   \n",
       "2                      215903                  0.300783          27826  ...   \n",
       "3                      215903                  0.337346          28271  ...   \n",
       "4                      179082                  0.480350           8363  ...   \n",
       "\n",
       "   signal_eff  background_passed  background_total  background_eff  \\\n",
       "0    0.983518              29118            215903        0.134866   \n",
       "1    0.983518              29118            215903        0.134866   \n",
       "2    0.977895              23898            215903        0.110689   \n",
       "3    0.993534              48898            215903        0.226481   \n",
       "4    0.957303              20363            179082        0.113708   \n",
       "\n",
       "   signal_corrected_passed  signal_corrected_total  signal_corrected_eff  \\\n",
       "0                    27974                   28455              0.983096   \n",
       "1                    27974                   28455              0.983096   \n",
       "2                    27829                   28455              0.978000   \n",
       "3                    28292                   28455              0.994272   \n",
       "4                     8365                    8736              0.957532   \n",
       "\n",
       "   background_corrected_passed  background_corrected_total  \\\n",
       "0                        31361                      215903   \n",
       "1                        31361                      215903   \n",
       "2                        25495                      215903   \n",
       "3                        61289                      215903   \n",
       "4                        21825                      179082   \n",
       "\n",
       "   background_corrected_eff  \n",
       "0                  0.145255  \n",
       "1                  0.145255  \n",
       "2                  0.118085  \n",
       "3                  0.283873  \n",
       "4                  0.121872  \n",
       "\n",
       "[5 rows x 21 columns]"
      ],
      "text/html": "<div>\n<style scoped>\n    .dataframe tbody tr th:only-of-type {\n        vertical-align: middle;\n    }\n\n    .dataframe tbody tr th {\n        vertical-align: top;\n    }\n\n    .dataframe thead th {\n        text-align: right;\n    }\n</style>\n<table border=\"1\" class=\"dataframe\">\n  <thead>\n    <tr style=\"text-align: right;\">\n      <th></th>\n      <th>name</th>\n      <th>et_bin</th>\n      <th>eta_bin</th>\n      <th>reference_signal_passed</th>\n      <th>reference_signal_total</th>\n      <th>reference_signal_eff</th>\n      <th>reference_background_passed</th>\n      <th>reference_background_total</th>\n      <th>reference_background_eff</th>\n      <th>signal_passed</th>\n      <th>...</th>\n      <th>signal_eff</th>\n      <th>background_passed</th>\n      <th>background_total</th>\n      <th>background_eff</th>\n      <th>signal_corrected_passed</th>\n      <th>signal_corrected_total</th>\n      <th>signal_corrected_eff</th>\n      <th>background_corrected_passed</th>\n      <th>background_corrected_total</th>\n      <th>background_corrected_eff</th>\n    </tr>\n  </thead>\n  <tbody>\n    <tr>\n      <th>0</th>\n      <td>tight_cutbased</td>\n      <td>0</td>\n      <td>0</td>\n      <td>27987</td>\n      <td>28455</td>\n      <td>0.983553</td>\n      <td>69344</td>\n      <td>215903</td>\n      <td>0.321181</td>\n      <td>27986</td>\n      <td>...</td>\n      <td>0.983518</td>\n      <td>29118</td>\n      <td>215903</td>\n      <td>0.134866</td>\n      <td>27974</td>\n      <td>28455</td>\n      <td>0.983096</td>\n      <td>31361</td>\n      <td>215903</td>\n      <td>0.145255</td>\n    </tr>\n    <tr>\n      <th>1</th>\n      <td>medium_cutbased</td>\n      <td>0</td>\n      <td>0</td>\n      <td>27987</td>\n      <td>28455</td>\n      <td>0.983553</td>\n      <td>69344</td>\n      <td>215903</td>\n      <td>0.321181</td>\n      <td>27986</td>\n      <td>...</td>\n      <td>0.983518</td>\n      <td>29118</td>\n      <td>215903</td>\n      <td>0.134866</td>\n      <td>27974</td>\n      <td>28455</td>\n      <td>0.983096</td>\n      <td>31361</td>\n      <td>215903</td>\n      <td>0.145255</td>\n    </tr>\n    <tr>\n      <th>2</th>\n      <td>loose_cutbased</td>\n      <td>0</td>\n      <td>0</td>\n      <td>27827</td>\n      <td>28455</td>\n      <td>0.977930</td>\n      <td>64940</td>\n      <td>215903</td>\n      <td>0.300783</td>\n      <td>27826</td>\n      <td>...</td>\n      <td>0.977895</td>\n      <td>23898</td>\n      <td>215903</td>\n      <td>0.110689</td>\n      <td>27829</td>\n      <td>28455</td>\n      <td>0.978000</td>\n      <td>25495</td>\n      <td>215903</td>\n      <td>0.118085</td>\n    </tr>\n    <tr>\n      <th>3</th>\n      <td>vloose_cutbased</td>\n      <td>0</td>\n      <td>0</td>\n      <td>28149</td>\n      <td>28455</td>\n      <td>0.989246</td>\n      <td>72834</td>\n      <td>215903</td>\n      <td>0.337346</td>\n      <td>28271</td>\n      <td>...</td>\n      <td>0.993534</td>\n      <td>48898</td>\n      <td>215903</td>\n      <td>0.226481</td>\n      <td>28292</td>\n      <td>28455</td>\n      <td>0.994272</td>\n      <td>61289</td>\n      <td>215903</td>\n      <td>0.283873</td>\n    </tr>\n    <tr>\n      <th>4</th>\n      <td>tight_cutbased</td>\n      <td>0</td>\n      <td>1</td>\n      <td>8363</td>\n      <td>8736</td>\n      <td>0.957303</td>\n      <td>86022</td>\n      <td>179082</td>\n      <td>0.480350</td>\n      <td>8363</td>\n      <td>...</td>\n      <td>0.957303</td>\n      <td>20363</td>\n      <td>179082</td>\n      <td>0.113708</td>\n      <td>8365</td>\n      <td>8736</td>\n      <td>0.957532</td>\n      <td>21825</td>\n      <td>179082</td>\n      <td>0.121872</td>\n    </tr>\n  </tbody>\n</table>\n<p>5 rows × 21 columns</p>\n</div>"
     },
     "metadata": {},
     "execution_count": 14
    }
   ],
   "source": [
    "ct.table().head()"
   ]
  },
  {
   "cell_type": "markdown",
   "metadata": {},
   "source": [
    "### 2.3) Create beamer report:"
   ]
  },
  {
   "cell_type": "code",
   "execution_count": 12,
   "metadata": {},
   "outputs": [
    {
     "output_type": "stream",
     "name": "stdout",
     "text": [
      "2021-03-03 14:14:24,431 | Py.BeamerTexReportTemplate1             INFO Started creating beamer file correction_v1_data17_13TeV_EGAM2_probes_lhmedium_EGAM7_vetoProbes.pdf latex code...\n",
      "rm: cannot remove '*.aux': No such file or directory\n",
      "rm: cannot remove '*.out': No such file or directory\n",
      "rm: cannot remove '*.snm': No such file or directory\n",
      "rm: cannot remove '*.toc': No such file or directory\n",
      "rm: cannot remove '*.nav': No such file or directory\n"
     ]
    }
   ],
   "source": [
    "ct.dump_beamer_table(ct.table(), best_models, 'data17_13TeV v1 tuning (Jpsiee)', \n",
    "                     'correction_v1_data17_13TeV_EGAM2_probes_lhmedium_EGAM7_vetoProbes.pdf')"
   ]
  },
  {
   "cell_type": "markdown",
   "metadata": {},
   "source": [
    "## Export tunings:"
   ]
  },
  {
   "cell_type": "code",
   "execution_count": 13,
   "metadata": {},
   "outputs": [
    {
     "output_type": "stream",
     "name": "stdout",
     "text": [
      "2021-03-03 14:14:24,755 | Py.fit_table                            INFO Export all tuning configuration to ElectronRingerTightTriggerConfig.conf.\n",
      "2021-03-03 14:14:24,832 | Py.fit_table                            INFO Export all tuning configuration to ElectronRingerMediumTriggerConfig.conf.\n",
      "2021-03-03 14:14:24,908 | Py.fit_table                            INFO Export all tuning configuration to ElectronRingerLooseTriggerConfig.conf.\n",
      "2021-03-03 14:14:24,983 | Py.fit_table                            INFO Export all tuning configuration to ElectronRingerVeryLooseTriggerConfig.conf.\n",
      "sh: 1: convert2onnx.py: not found\n",
      "sh: 1: convert2onnx.py: not found\n",
      "sh: 1: convert2onnx.py: not found\n",
      "sh: 1: convert2onnx.py: not found\n",
      "sh: 1: convert2onnx.py: not found\n",
      "sh: 1: convert2onnx.py: not found\n",
      "sh: 1: convert2onnx.py: not found\n",
      "sh: 1: convert2onnx.py: not found\n",
      "sh: 1: convert2onnx.py: not found\n",
      "sh: 1: convert2onnx.py: not found\n",
      "sh: 1: convert2onnx.py: not found\n",
      "sh: 1: convert2onnx.py: not found\n",
      "sh: 1: convert2onnx.py: not found\n",
      "sh: 1: convert2onnx.py: not found\n",
      "sh: 1: convert2onnx.py: not found\n",
      "sh: 1: convert2onnx.py: not found\n",
      "sh: 1: convert2onnx.py: not found\n",
      "sh: 1: convert2onnx.py: not found\n",
      "sh: 1: convert2onnx.py: not found\n",
      "sh: 1: convert2onnx.py: not found\n",
      "sh: 1: convert2onnx.py: not found\n",
      "sh: 1: convert2onnx.py: not found\n",
      "sh: 1: convert2onnx.py: not found\n",
      "sh: 1: convert2onnx.py: not found\n",
      "sh: 1: convert2onnx.py: not found\n",
      "sh: 1: convert2onnx.py: not found\n",
      "sh: 1: convert2onnx.py: not found\n",
      "sh: 1: convert2onnx.py: not found\n",
      "sh: 1: convert2onnx.py: not found\n",
      "sh: 1: convert2onnx.py: not found\n",
      "sh: 1: convert2onnx.py: not found\n",
      "sh: 1: convert2onnx.py: not found\n",
      "sh: 1: convert2onnx.py: not found\n",
      "sh: 1: convert2onnx.py: not found\n",
      "sh: 1: convert2onnx.py: not found\n",
      "sh: 1: convert2onnx.py: not found\n",
      "sh: 1: convert2onnx.py: not found\n",
      "sh: 1: convert2onnx.py: not found\n",
      "sh: 1: convert2onnx.py: not found\n",
      "sh: 1: convert2onnx.py: not found\n",
      "sh: 1: convert2onnx.py: not found\n",
      "sh: 1: convert2onnx.py: not found\n",
      "sh: 1: convert2onnx.py: not found\n",
      "sh: 1: convert2onnx.py: not found\n",
      "sh: 1: convert2onnx.py: not found\n",
      "sh: 1: convert2onnx.py: not found\n",
      "sh: 1: convert2onnx.py: not found\n",
      "sh: 1: convert2onnx.py: not found\n",
      "sh: 1: convert2onnx.py: not found\n",
      "sh: 1: convert2onnx.py: not found\n",
      "sh: 1: convert2onnx.py: not found\n",
      "sh: 1: convert2onnx.py: not found\n",
      "sh: 1: convert2onnx.py: not found\n",
      "sh: 1: convert2onnx.py: not found\n",
      "sh: 1: convert2onnx.py: not found\n",
      "sh: 1: convert2onnx.py: not found\n",
      "sh: 1: convert2onnx.py: not found\n",
      "sh: 1: convert2onnx.py: not found\n",
      "sh: 1: convert2onnx.py: not found\n",
      "sh: 1: convert2onnx.py: not found\n"
     ]
    }
   ],
   "source": [
    "\n",
    "model_name_format = 'data17_13TeV_EGAM2_probes_lhmedium_EGAM7_vetolhvloose.model_v1.electron{op}.et%d_eta%d'\n",
    "config_name_format = 'ElectronRinger{op}TriggerConfig.conf'\n",
    "for idx, op in enumerate(['Tight','Medium','Loose','VeryLoose']):\n",
    "    ct.export(best_models, \n",
    "              model_name_format.format(op=op), \n",
    "              config_name_format.format(op=op), \n",
    "              references[idx], \n",
    "              to_onnx=False)"
   ]
  },
  {
   "cell_type": "code",
   "execution_count": null,
   "metadata": {},
   "outputs": [],
   "source": []
  },
  {
   "cell_type": "code",
   "execution_count": null,
   "metadata": {},
   "outputs": [],
   "source": []
  }
 ],
 "metadata": {
  "kernelspec": {
   "display_name": "Python 3.8.5  ('doc_env': venv)",
   "language": "python",
   "name": "python385docenvvenvdb57c116ba07491c9e4c30a98c552a68"
  },
  "language_info": {
   "codemirror_mode": {
    "name": "ipython",
    "version": 3
   },
   "file_extension": ".py",
   "mimetype": "text/x-python",
   "name": "python",
   "nbconvert_exporter": "python",
   "pygments_lexer": "ipython3",
   "version": "3.8.5-final"
  }
 },
 "nbformat": 4,
 "nbformat_minor": 4
}