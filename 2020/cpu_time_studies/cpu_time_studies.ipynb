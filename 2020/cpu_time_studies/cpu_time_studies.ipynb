{
 "cells": [
  {
   "cell_type": "code",
   "execution_count": 21,
   "id": "6161b776-3cf0-46eb-b9c2-3843be47d285",
   "metadata": {},
   "outputs": [],
   "source": [
    "from Gaugi.monet.TAxisFunctions import *\n",
    "from Gaugi.monet.PlotFunctions import *\n",
    "from Gaugi.monet.utils import getColor\n",
    "from Gaugi.monet import ATLASLabel\n",
    "from ROOT import TH1,TH1F, TH2F, TProfile,TCanvas, TFile, TPad, TColor\n",
    "from ROOT import kBlack,kBlue,kRed,kAzure,kGreen,kMagenta,kCyan,kOrange,kGray,kYellow\n",
    "import numpy as np\n",
    "import math, ROOT\n",
    "%config InlineBackend.figure_format = 'retina'\n",
    "#%jsroot on\n",
    "#%config InlineBackend.figure_format = 'svg'"
   ]
  },
  {
   "cell_type": "code",
   "execution_count": 2,
   "id": "a3c2f299-09ef-41ec-b3d8-73bdfed0ff8b",
   "metadata": {},
   "outputs": [
    {
     "name": "stdout",
     "output_type": "stream",
     "text": [
      "\n",
      "Applying ATLAS style settings...\n"
     ]
    }
   ],
   "source": [
    "from Gaugi.monet.AtlasStyle import SetAtlasStyle\n",
    "SetAtlasStyle()"
   ]
  },
  {
   "cell_type": "code",
   "execution_count": 3,
   "id": "c6d254fb-d0eb-41cb-8f52-cf97d7b60e73",
   "metadata": {},
   "outputs": [],
   "source": [
    "basepath = \"/Volumes/castor/phd_data/ringer_analysis/zee_run2/2020/time_analysis\"\n",
    "case_1 = TFile(basepath+'/expert-monitoring-case1.root','r')\n",
    "case_2 = TFile(basepath+'/expert-monitoring-case2.root','r')\n",
    "case_3 = TFile(basepath+'/expert-monitoring-case3.root','r')"
   ]
  },
  {
   "cell_type": "code",
   "execution_count": 4,
   "id": "bb49eb87-91dc-48de-9e00-02050c8ea4ea",
   "metadata": {},
   "outputs": [],
   "source": [
    "name = \"FastCaloL2EgammaHypo/ElectronEgammaFastCaloHypo/TIME_NN_exec\""
   ]
  },
  {
   "cell_type": "code",
   "execution_count": 44,
   "id": "6912982c-bd59-4349-a467-14005467b9a2",
   "metadata": {},
   "outputs": [
    {
     "name": "stderr",
     "output_type": "stream",
     "text": [
      "Warning in <TCanvas::Constructor>: Deleting canvas with same name: canvas\n",
      "Info in <TCanvas::Print>: pdf file FastCaloElectronHypo_NN_Time.pdf has been created\n"
     ]
    },
    {
     "data": {
      "image/png": "[encoded data removed]",
      "text/plain": [
       "<IPython.core.display.Image object>"
      ]
     },
     "metadata": {},
     "output_type": "display_data"
    }
   ],
   "source": [
    "outcan = TCanvas( 'canvas', \"\", 700, 500 ) \n",
    "drawopt = 'hist'\n",
    "\n",
    "h1 = case_1.Get(name)\n",
    "h2 = case_2.Get(name)\n",
    "h3 = case_3.Get(name)\n",
    "y_value = 70\n",
    "h1.SetMaximum(y_value)\n",
    "h2.SetMaximum(y_value)\n",
    "h3.SetMaximum(y_value)\n",
    "\n",
    "h1.SetLineColor(kBlack)\n",
    "h1.SetFillColor(kYellow-4)\n",
    "\n",
    "h2.SetLineColor(kRed)\n",
    "h2.SetFillColor(0)\n",
    "\n",
    "h3.SetLineColor(kBlack)\n",
    "#h1.SetFillColor(kb-4)\n",
    "\n",
    "AddHistogram(outcan,h1,drawopt=drawopt) \n",
    "AddHistogram(outcan,h2,drawopt=drawopt) \n",
    "AddHistogram(outcan,h3,drawopt=drawopt) \n",
    "\n",
    "m1 = 'Time: %1.2f#pm%1.2f us'%(h1.GetMean(),h1.GetStdDev())\n",
    "m2 = 'Time: %1.2f#pm%1.2f us'%(h2.GetMean(),h2.GetStdDev())\n",
    "m3 = 'Time: %1.2f#pm%1.2f us'%(h3.GetMean(),h3.GetStdDev())\n",
    "\n",
    "# fast calo ID selector only\n",
    "DrawText(outcan,['Fast calo Ringer ID selector only'],.30,.68,.90,.93,totalentries=4,textsize=16)\n",
    "\n",
    "FormatCanvasAxes(outcan, XLabelSize=18, YLabelSize=18, XTitleOffset=0.87, YTitleOffset=1.5)\n",
    "MakeLegend(outcan,.4,.60,.89,.79,option='F',textsize=16, \n",
    "           names=['v8, Run2 code, '+m1,'v8, Run3 code, '+m2, 'v11, Run3 code, '+m3], \n",
    "           ncolumns=1, \n",
    "           squarebox=True, doFixLength=False)\n",
    "\n",
    "FormatCanvasAxes(outcan, XLabelSize=18, YLabelSize=18, XTitleOffset=0.87, YTitleOffset=1)\n",
    "SetAxisLabels(outcan,\"Algorithm CPU Time [us]\",'Count')\n",
    "ATLASLabel(0.2,0.88,'Internal, Enhanced Bias, FastCalo Hypo')\n",
    "outcan.Modified()\n",
    "outcan.Update()\n",
    "outcan.SaveAs(\"FastCaloElectronHypo_NN_Time.pdf\")\n",
    "outcan.Draw()\n",
    "\n",
    "del h1,h2,h3"
   ]
  },
  {
   "cell_type": "code",
   "execution_count": null,
   "id": "ed1b8808-d1f7-4961-930f-c8aea95abbd7",
   "metadata": {},
   "outputs": [],
   "source": []
  }
 ],
 "metadata": {
  "kernelspec": {
   "display_name": "Python 3",
   "language": "python",
   "name": "python3"
  },
  "language_info": {
   "codemirror_mode": {
    "name": "ipython",
    "version": 3
   },
   "file_extension": ".py",
   "mimetype": "text/x-python",
   "name": "python",
   "nbconvert_exporter": "python",
   "pygments_lexer": "ipython3",
   "version": "3.9.5"
  }
 },
 "nbformat": 4,
 "nbformat_minor": 5
}
